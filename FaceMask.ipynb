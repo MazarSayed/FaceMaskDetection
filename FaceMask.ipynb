{
  "cells": [
    {
      "cell_type": "markdown",
      "id": "9560e6a1",
      "metadata": {
        "id": "9560e6a1"
      },
      "source": [
        "# Simple Face Mask Detection - Q1"
      ]
    },
    {
      "cell_type": "markdown",
      "id": "35e2eb7a",
      "metadata": {
        "id": "35e2eb7a"
      },
      "source": [
        "**Introduction**\n",
        "\n",
        "In this notebook, we will be evaluating your basic image/video data pre-processing and computer vision based modeling skills. You will be evaluated under three key ares in any computer vision task namely,\n",
        "\n",
        "- Basic Preprocessing Techniques\n",
        "- Basic Model Developement\n",
        "- Basic Inference Techniques"
      ]
    },
    {
      "cell_type": "markdown",
      "id": "2c024b2d",
      "metadata": {
        "id": "2c024b2d"
      },
      "source": [
        "**Task Description**\n",
        "\n",
        "With the covid-19 pandemic face mask detection is a very common problem nowdays in industry with many differnt solutions. Computer vision based solutions are still capable of identifying face masks in both still images and videos rather than other solutions. Developers suggested and developed many libraries and APIs to detect face masks using computer vision. In this notebook you will be asked to develop a simple face mask detection algorithm using computer vision."
      ]
    },
    {
      "cell_type": "markdown",
      "id": "e5eec8bf",
      "metadata": {
        "id": "e5eec8bf"
      },
      "source": [
        "**Dataset Description**\n",
        "\n",
        "You can use Q4 Dataset.zip to get the datatset for this task. Dataset contains images for two different classes which are masked faces and without masked faces.\n",
        "\n",
        "- Mased faces - A folder contains 5000 face images with mask.\n",
        "- Without Mased faces - A folder contains 5000 face images without mask."
      ]
    },
    {
      "cell_type": "code",
      "source": [],
      "metadata": {
        "id": "wHt_zcBhelm2"
      },
      "id": "wHt_zcBhelm2",
      "execution_count": null,
      "outputs": []
    },
    {
      "cell_type": "markdown",
      "id": "b43a7478",
      "metadata": {
        "id": "b43a7478"
      },
      "source": [
        "**Code Structure**\n",
        "\n",
        "Complete task is divided into three sepearte areas that are mentioned in **Introduction** section. You need to develop sepearte *python fucntions* to each functionality and wrap them up in one *python class* for each section. You may given predefined functions which are expected to be implemented by you and carry more weight on the final score. hence **DO NOT** remove those functions yet you can add any additional functions as you need.\n",
        "\n",
        "**Hint: You have to create 3 sepearte classes for each key area and wrap all the functions within those classes as needed**"
      ]
    },
    {
      "cell_type": "code",
      "execution_count": 1,
      "id": "4b1d943a",
      "metadata": {
        "id": "4b1d943a"
      },
      "outputs": [],
      "source": [
        "# Sample Class\n",
        "\n",
        "class TestClass_1:\n",
        "\n",
        "    def __init__(self):\n",
        "        pass\n",
        "\n",
        "    def method_1(self, parameter_1):\n",
        "        pass\n",
        "\n",
        "    def method_2(self, parameter_2):\n",
        "        pass\n",
        "\n",
        "    # There can be many methods\n",
        "\n",
        "    def method_3(self, parameter_3):\n",
        "        pass"
      ]
    },
    {
      "cell_type": "markdown",
      "id": "c3ae946f",
      "metadata": {
        "id": "c3ae946f"
      },
      "source": [
        "### Basic Preprocessing Techniques"
      ]
    },
    {
      "cell_type": "markdown",
      "id": "48066759",
      "metadata": {
        "id": "48066759"
      },
      "source": [
        "There are many vision based preprocessing techniques are out there. You will be asked to apply basic techniques such as,\n",
        "- Input images/videos and read them\n",
        "- Change color channels\n",
        "- Crop, Resize etc"
      ]
    },
    {
      "cell_type": "code",
      "execution_count": 2,
      "id": "7098176b",
      "metadata": {
        "id": "7098176b"
      },
      "outputs": [],
      "source": [
        "# Importing required libraries\n",
        "\n",
        "import os\n",
        "import cv2\n",
        "import numpy as np\n",
        "import pandas as pd\n",
        "import matplotlib.pyplot as plt\n",
        "\n",
        "\n",
        "\n",
        "# Any additional libraries go under here\n",
        "# import ...\n",
        "from PIL import Image\n",
        "import zipfile\n",
        "import tensorflow as tf\n",
        "from tensorflow.keras import layers, models\n",
        "from sklearn.preprocessing import LabelEncoder\n",
        "from tensorflow.keras.callbacks import EarlyStopping\n",
        "from sklearn.model_selection import train_test_split"
      ]
    },
    {
      "cell_type": "markdown",
      "source": [
        "#Fill the Blanks Below , Don't edit it"
      ],
      "metadata": {
        "id": "7QnC-s05zyxg"
      },
      "id": "7QnC-s05zyxg"
    },
    {
      "cell_type": "code",
      "source": [
        "class BasicPreprocessing:\n",
        "\n",
        "    def __init__(self):\n",
        "        pass\n",
        "\n",
        "    def import_dataset(self):\n",
        "        from google.colab import drive\n",
        "        drive.mount('/content/drive')\n",
        "\n",
        "        zip_file_path = '/content/drive/MyDrive/Q4Dataset.zip'\n",
        "        extracted_folder_path = '/content/extracted_data'\n",
        "\n",
        "        os.makedirs(extracted_folder_path, exist_ok=True)\n",
        "\n",
        "        # Extract the zip file\n",
        "        with zipfile.ZipFile(zip_file_path, 'r') as zip_ref:\n",
        "            zip_ref.extractall(extracted_folder_path)\n",
        "        pass\n",
        "\n",
        "    def bgr_2_gray(self,input_folder):\n",
        "        image_files = os.listdir(input_folder)\n",
        "\n",
        "        for image_file in image_files:\n",
        "            # Load the RGB image using cv2\n",
        "            image_path = os.path.join(input_folder, image_file)\n",
        "            rgb_image = cv2.imread(image_path)\n",
        "\n",
        "            # Convert RGB image to grayscale using cv2\n",
        "            gray_image = cv2.cvtColor(rgb_image, cv2.COLOR_BGR2GRAY)\n",
        "\n",
        "            # Save the grayscale image, overwriting the original RGB image\n",
        "            cv2.imwrite(image_path, gray_image)\n",
        "\n",
        "    def resize(self,input_folder, output_folder, target_size):\n",
        "\n",
        "        os.makedirs(output_folder, exist_ok=True)\n",
        "\n",
        "        # List all image files in the input folder\n",
        "        image_files = os.listdir(input_folder)\n",
        "\n",
        "        for image_file in image_files:\n",
        "            # Load the image using PIL\n",
        "            image_path = os.path.join(input_folder, image_file)\n",
        "            image = Image.open(image_path)\n",
        "\n",
        "            # Crop the center of the image\n",
        "            width, height = image.size\n",
        "            left = (width - target_size[0]) // 2\n",
        "            top = (height - target_size[1]) // 2\n",
        "            right = left + target_size[0]\n",
        "            bottom = top + target_size[1]\n",
        "            cropped_image = image.crop((left, top, right, bottom))\n",
        "\n",
        "            # Resize the cropped image to the target size\n",
        "            resized_image = cropped_image.resize(target_size, Image.LANCZOS)\n",
        "\n",
        "            # Convert the PIL Image to a NumPy array\n",
        "            np_image = np.array(resized_image)\n",
        "\n",
        "\n",
        "            output_path = os.path.join(output_folder, image_file)\n",
        "            cv2.imwrite(output_path, cv2.cvtColor(np_image, cv2.COLOR_RGB2BGR))\n",
        "        pass\n",
        "\n",
        "    def normalize(self,input_folder, output_folder):\n",
        "\n",
        "        os.makedirs(output_folder, exist_ok=True)\n",
        "\n",
        "        # List all image files in the input folder\n",
        "        image_files = os.listdir(input_folder)\n",
        "\n",
        "        for image_file in image_files:\n",
        "            # Load the image using PIL\n",
        "            image_path = os.path.join(input_folder, image_file)\n",
        "            image = Image.open(image_path)\n",
        "\n",
        "            # Convert the image to a NumPy array and normalize the pixel values\n",
        "            normalized_image = np.array(image) / 255.0\n",
        "\n",
        "            # Save the normalized image in the output folder\n",
        "            output_path = os.path.join(output_folder, image_file)\n",
        "            normalized_image = Image.fromarray((normalized_image * 255).astype(np.uint8))\n",
        "            normalized_image.save(output_path)\n",
        "        pass\n",
        "\n",
        "    def cate_to_dummy(self,input_folder_1, input_folder_2, output_folder):\n",
        "        labeled_data = []\n",
        "\n",
        "        os.makedirs(output_folder, exist_ok=True)\n",
        "\n",
        "        # Label images in folder 1 as '1' (masked)\n",
        "        for image_file in os.listdir(input_folder_1):\n",
        "            image_path = os.path.join(input_folder_1, image_file)\n",
        "\n",
        "            # Save the image to the output folder with the same filename\n",
        "            output_path = os.path.join(output_folder, image_file)\n",
        "            os.rename(image_path, output_path)  # Move the image to the output folder\n",
        "\n",
        "            labeled_data.append((output_path, 1))  # Append the image path and label '1'\n",
        "\n",
        "        # Label images in folder 2 as '0' (not masked)\n",
        "        for image_file in os.listdir(input_folder_2):\n",
        "            image_path = os.path.join(input_folder_2, image_file)\n",
        "\n",
        "            # Save the image to the output folder with the same filename\n",
        "            output_path = os.path.join(output_folder, image_file)\n",
        "            os.rename(image_path, output_path)  # Move the image to the output folder\n",
        "\n",
        "            labeled_data.append((output_path, 0))  # Append the image path and label '0'\n",
        "\n",
        "        return labeled_data\n",
        "\n",
        "        pass\n",
        "\n",
        "    def reshape_data(self,labeled_data, output_folder, new_size=(64,64)):\n",
        "        os.makedirs(output_folder, exist_ok=True)\n",
        "\n",
        "        reshaped_data = []\n",
        "        for image_path, label in labeled_data:\n",
        "                image = Image.open(image_path)\n",
        "                resized_image = image.resize(new_size)\n",
        "                output_path = os.path.join(output_folder, os.path.basename(image_path))\n",
        "                resized_image.save(output_path)\n",
        "                reshaped_data.append((output_path, label))\n",
        "        return reshaped_data\n",
        "        pass\n",
        "\n",
        "\n",
        "    def train_test(self,df, label_column, test_size=0.2, validation_size=0.2, random_state=None):\n",
        "\n",
        "        if label_column not in df.columns:\n",
        "            raise ValueError(f\"Column '{label_column}' not found in the dataframe.\")\n",
        "\n",
        "        # Split the data into train + validation and test sets.\n",
        "        X_train_val, X_test, y_train_val, y_test = train_test_split(\n",
        "            df.drop(columns=[label_column]),\n",
        "            df[label_column],\n",
        "            test_size=test_size,\n",
        "            random_state=random_state\n",
        "        )\n",
        "\n",
        "        #  Split the train + validation data into train and validation sets.\n",
        "        X_train, X_val, y_train, y_val = train_test_split(\n",
        "            X_train_val,\n",
        "            y_train_val,\n",
        "            test_size=validation_size / (1 - test_size),\n",
        "            random_state=random_state\n",
        "        )\n",
        "\n",
        "        # Return the resulting dataframes.\n",
        "        train_df = pd.concat([X_train, y_train], axis=1)\n",
        "        test_df = pd.concat([X_test, y_test], axis=1)\n",
        "        val_df = pd.concat([X_val, y_val], axis=1)\n",
        "\n",
        "        return train_df, test_df, val_df\n",
        "\n",
        "\n",
        "\n",
        "    # All other customized methods go under here\n",
        "\n",
        "    def any_name(self):\n",
        "        pass"
      ],
      "metadata": {
        "id": "bD9ZlCYuY74r"
      },
      "id": "bD9ZlCYuY74r",
      "execution_count": 3,
      "outputs": []
    },
    {
      "cell_type": "markdown",
      "id": "1a6eb48b",
      "metadata": {
        "id": "1a6eb48b"
      },
      "source": [
        "### Basic Model Development"
      ]
    },
    {
      "cell_type": "markdown",
      "id": "9647e1f8",
      "metadata": {
        "id": "9647e1f8"
      },
      "source": [
        "There are many ways that you can develop either a machine learing model or deep learning model. Also you can use pretrained models like Resnet50, VGG16, VGG19 etc. But under this task you will be asked to develop a simple model without using any pretrained model.\n",
        "\n",
        "**Hint: Use tensorflow, pytorch or any ML framework you are comfortable with to extract features**"
      ]
    },
    {
      "cell_type": "code",
      "execution_count": 16,
      "id": "5b406523",
      "metadata": {
        "id": "5b406523"
      },
      "outputs": [],
      "source": [
        "class ModelDevelopment:\n",
        "\n",
        "    def __init__(self):\n",
        "        pass\n",
        "\n",
        "    def extract_image_features(self,df):\n",
        "        def preprocess_image(image_path):\n",
        "            image = tf.io.read_file(image_path)\n",
        "            image = tf.image.decode_jpeg(image, channels=1)\n",
        "            return image\n",
        "\n",
        "        # Load images from the DataFrame and preprocess them\n",
        "        image_paths = df['Image_Path'].values\n",
        "        images = [preprocess_image(path) for path in image_paths]\n",
        "        images = np.array(images)\n",
        "\n",
        "        # Load labels from the DataFrame\n",
        "        labels = df['Label'].values\n",
        "\n",
        "        return images, labels\n",
        "\n",
        "\n",
        "    def train_model(self,train_images, train_labels,val_images, val_labels):\n",
        "\n",
        "        # Build the CNN model.\n",
        "        model = models.Sequential([\n",
        "            layers.Conv2D(16, (3, 3), activation='relu', input_shape=(64, 64, 1)),\n",
        "            layers.MaxPooling2D((2, 2)),\n",
        "            layers.Conv2D(32, (3, 3), activation='relu'),\n",
        "            layers.MaxPooling2D((2, 2)),\n",
        "            layers.Dropout(0.2),\n",
        "            layers.Conv2D(64, (3, 3), activation='relu'),\n",
        "            layers.MaxPooling2D((2, 2)),\n",
        "            layers.Dropout(0.2),\n",
        "            layers.Conv2D(128, (3, 3), activation='relu'),\n",
        "            layers.MaxPooling2D((2, 2)),\n",
        "            layers.Flatten(),\n",
        "            layers.Dense(128, activation='relu'),\n",
        "            layers.Dropout(0.4),\n",
        "            layers.Dense(1, activation='sigmoid')\n",
        "        ])\n",
        "\n",
        "        # Compile the model.\n",
        "        model.compile(optimizer='adam',\n",
        "                    loss='binary_crossentropy',\n",
        "                    metrics=['accuracy'])\n",
        "\n",
        "        # Define the early stopping callback\n",
        "        early_stopping = EarlyStopping(monitor='val_loss', patience=2, restore_best_weights=True)\n",
        "\n",
        "        # Train the model with early stopping.\n",
        "        history = model.fit(train_images, train_labels, epochs=10, batch_size=32,\n",
        "                            validation_data=(val_images, val_labels),\n",
        "                            callbacks=[early_stopping])\n",
        "\n",
        "        return model,history\n",
        "        pass\n",
        "\n",
        "    def test_model(self,model,test_images, test_labels):\n",
        "        # Evaluate the model on the test set.\n",
        "        test_loss, test_accuracy = model.evaluate(test_images, test_labels)\n",
        "        print(f\"Test accuracy: {test_accuracy:.4f}\")\n",
        "        pass\n",
        "\n",
        "    def plot_graphs(self,history):\n",
        "        # Plot training and validation accuracy\n",
        "        plt.plot(history.history['accuracy'], label='Training Accuracy')\n",
        "        plt.plot(history.history['val_accuracy'], label='Validation Accuracy')\n",
        "        plt.xlabel('Epoch')\n",
        "        plt.ylabel('Accuracy')\n",
        "        plt.title('Epoch vs Accuracy')\n",
        "        plt.legend()\n",
        "        plt.show()\n",
        "\n",
        "        # Plot training and validation loss\n",
        "        plt.plot(history.history['loss'], label='Training Loss')\n",
        "        plt.plot(history.history['val_loss'], label='Validation Loss')\n",
        "        plt.xlabel('Epoch')\n",
        "        plt.ylabel('Loss')\n",
        "        plt.title('Epoch vs Loss')\n",
        "        plt.legend()\n",
        "        plt.show()\n",
        "\n",
        "    # All other customized methods go under here\n",
        "\n",
        "    def any_name(self):\n",
        "        pass"
      ]
    },
    {
      "cell_type": "markdown",
      "id": "51c5c229",
      "metadata": {
        "id": "51c5c229"
      },
      "source": [
        "### Basic Inference Techniques"
      ]
    },
    {
      "cell_type": "markdown",
      "id": "496d4ae2",
      "metadata": {
        "id": "496d4ae2"
      },
      "source": [
        "In here you will be asked to develop a detection method to detect masked faces in static images."
      ]
    },
    {
      "cell_type": "code",
      "execution_count": 17,
      "id": "98726229",
      "metadata": {
        "id": "98726229"
      },
      "outputs": [],
      "source": [
        "class BasicInference:\n",
        "\n",
        "    def __init__(self):\n",
        "        pass\n",
        "\n",
        "    def detect_images(self,model,test_set):\n",
        "        selected_row = test_set.iloc[20]\n",
        "\n",
        "        # Extract the image path from the selected row\n",
        "        image_path = selected_row['Image_Path']\n",
        "\n",
        "        # Preprocess and load the image using the preprocess_and_load_data function\n",
        "        image, label = ModelDevelopment().extract_image_features(pd.DataFrame([selected_row]))\n",
        "\n",
        "        # Load the trained CNN model\n",
        "        trained_model = model\n",
        "        # Perform inference on the preprocessed image\n",
        "        predicted_label = model.predict(image)\n",
        "\n",
        "        # Convert the predicted label from the probability to the actual class (0 or 1 in this case)\n",
        "        predicted_class = 1 if predicted_label[0] > 0.5 else 0\n",
        "\n",
        "        # Define the class labels (Non-Masked and Masked)\n",
        "        class_labels = {0: \"Non-Masked\", 1: \"Masked\"}\n",
        "\n",
        "        # Display the image and the predicted class with class labels\n",
        "        plt.imshow(image[0, :, :, 0], cmap='gray')  # For grayscale images\n",
        "        plt.title(f\"True Label: {class_labels[label[0]]}, Predicted Label: {class_labels[predicted_class]}\")\n",
        "        plt.axis('off')\n",
        "        plt.show()\n",
        "        pass\n",
        "\n",
        "\n",
        "    # All other customized methods go under here\n",
        "\n",
        "    def any_name(self):\n",
        "        pass"
      ]
    },
    {
      "cell_type": "code",
      "execution_count": 18,
      "id": "e74b1efc",
      "metadata": {
        "id": "e74b1efc",
        "outputId": "af1ba0f2-b637-4cee-8567-6630d3f2ddb0",
        "colab": {
          "base_uri": "https://localhost:8080/",
          "height": 1000
        }
      },
      "outputs": [
        {
          "output_type": "stream",
          "name": "stdout",
          "text": [
            "Drive already mounted at /content/drive; to attempt to forcibly remount, call drive.mount(\"/content/drive\", force_remount=True).\n",
            "Epoch 1/10\n",
            "142/142 [==============================] - 23s 151ms/step - loss: 1.1218 - accuracy: 0.6471 - val_loss: 0.4999 - val_accuracy: 0.7353\n",
            "Epoch 2/10\n",
            "142/142 [==============================] - 18s 124ms/step - loss: 0.4928 - accuracy: 0.7530 - val_loss: 0.4984 - val_accuracy: 0.7187\n",
            "Epoch 3/10\n",
            "142/142 [==============================] - 18s 123ms/step - loss: 0.4449 - accuracy: 0.7786 - val_loss: 0.3663 - val_accuracy: 0.8584\n",
            "Epoch 4/10\n",
            "142/142 [==============================] - 18s 125ms/step - loss: 0.3793 - accuracy: 0.8309 - val_loss: 0.3147 - val_accuracy: 0.8564\n",
            "Epoch 5/10\n",
            "142/142 [==============================] - 20s 140ms/step - loss: 0.3430 - accuracy: 0.8384 - val_loss: 0.2980 - val_accuracy: 0.8676\n",
            "Epoch 6/10\n",
            "142/142 [==============================] - 18s 125ms/step - loss: 0.3112 - accuracy: 0.8552 - val_loss: 0.2729 - val_accuracy: 0.8789\n",
            "Epoch 7/10\n",
            "142/142 [==============================] - 20s 140ms/step - loss: 0.2896 - accuracy: 0.8775 - val_loss: 0.2840 - val_accuracy: 0.8795\n",
            "Epoch 8/10\n",
            "142/142 [==============================] - 18s 124ms/step - loss: 0.2608 - accuracy: 0.8866 - val_loss: 0.2546 - val_accuracy: 0.8948\n",
            "Epoch 9/10\n",
            "142/142 [==============================] - 20s 139ms/step - loss: 0.2426 - accuracy: 0.8956 - val_loss: 0.2515 - val_accuracy: 0.8848\n",
            "Epoch 10/10\n",
            "142/142 [==============================] - 18s 123ms/step - loss: 0.2303 - accuracy: 0.9020 - val_loss: 0.2354 - val_accuracy: 0.8928\n"
          ]
        },
        {
          "output_type": "display_data",
          "data": {
            "text/plain": [
              "<Figure size 640x480 with 1 Axes>"
            ],
            "image/png": "[encoded data removed]"
          },
          "metadata": {}
        },
        {
          "output_type": "display_data",
          "data": {
            "text/plain": [
              "<Figure size 640x480 with 1 Axes>"
            ],
            "image/png": "[encoded data removed]"
          },
          "metadata": {}
        },
        {
          "output_type": "stream",
          "name": "stdout",
          "text": [
            "1/1 [==============================] - 0s 95ms/step\n"
          ]
        },
        {
          "output_type": "display_data",
          "data": {
            "text/plain": [
              "<Figure size 640x480 with 1 Axes>"
            ],
            "image/png": "[encoded data removed]"
          },
          "metadata": {}
        }
      ],
      "source": [
        "# You can use this space to play with classes and implement the main() fucntion\n",
        "\n",
        "def main():\n",
        "    data =  BasicPreprocessing()\n",
        "    data.import_dataset()\n",
        "    # Convert the datasets in both folders to grayscale\n",
        "    data.bgr_2_gray(\"/content/extracted_data/data/with_mask\")\n",
        "    data.bgr_2_gray( '/content/extracted_data/data/without_mask')\n",
        "    # Replace with the paths to the folders containing your RGB datasets\n",
        "    input_folder_1 = '/content/extracted_data/data/with_mask'\n",
        "    input_folder_2 = '/content/extracted_data/data/without_mask'\n",
        "\n",
        "    # Replace with the desired output folders where grayscale images will be saved\n",
        "    output_folder_1 = '/content/extracted_data/data/with_mask_crop'\n",
        "    output_folder_2 = '/content/extracted_data/data/without_mask_crop'\n",
        "\n",
        "    # Replace with the target size you want for the images (e.g., (128, 128))\n",
        "    target_size = (200, 200)\n",
        "\n",
        "    # Crop and resize the datasets in both folders\n",
        "    data.resize(input_folder_1,output_folder_1,target_size)\n",
        "    data.resize(input_folder_2, output_folder_2, target_size)\n",
        "    # Replace with the paths to the folders containing your RGB datasets\n",
        "    input_folder_1 = '/content/extracted_data/data/with_mask_crop'\n",
        "    input_folder_2 = '/content/extracted_data/data/without_mask_crop'\n",
        "\n",
        "    # Replace with the desired output folders where grayscale images will be saved\n",
        "    output_folder_1 = '/content/extracted_data/data/with_mask_norm'\n",
        "    output_folder_2 = '/content/extracted_data/data/without_mask_norm'\n",
        "\n",
        "    # Normalize the datasets in both folders\n",
        "    data.normalize(input_folder_1, output_folder_1)\n",
        "    data.normalize(input_folder_2, output_folder_2)\n",
        "    input_folder_1 = '/content/extracted_data/data/with_mask_norm'\n",
        "    input_folder_2 = '/content/extracted_data/data/without_mask_norm'\n",
        "    output_folder = '/content/labeled_images'\n",
        "\n",
        "    labeled_data = data.cate_to_dummy(input_folder_1, input_folder_2, output_folder)\n",
        "    # Define the output folder for the reshaped images\n",
        "    reshaped_output_folder = '/content/reshaped_images'\n",
        "\n",
        "    # Reshape the labeled images to (64, 64) and get reshaped data\n",
        "    reshaped_data = data.reshape_data(labeled_data, reshaped_output_folder)\n",
        "    # Convert the reshaped data to a DataFrame\n",
        "    reshaped_df = pd.DataFrame(reshaped_data, columns=['Image_Path', 'Label'])\n",
        "\n",
        "    # Shuffle the DataFrame\n",
        "    shuffled_df = reshaped_df.sample(frac=1, random_state=48).reset_index(drop=True)\n",
        "    train_set, test_set, val_set = data.train_test(shuffled_df,\"Label\")\n",
        "\n",
        "    devloped_Model= ModelDevelopment()\n",
        "    train_images, train_labels =  devloped_Model.extract_image_features(train_set)\n",
        "    test_images, test_labels =  devloped_Model.extract_image_features(test_set)\n",
        "    val_images, val_labels =  devloped_Model.extract_image_features(val_set)\n",
        "\n",
        "    model ,hitory =devloped_Model.train_model(train_images, train_labels,val_images, val_labels)\n",
        "    devloped_Model.plot_graphs(hitory)\n",
        "\n",
        "    inference = BasicInference()\n",
        "    inference.detect_images(model,test_set)\n",
        "\n",
        "    pass\n",
        "\n",
        "main()"
      ]
    },
    {
      "cell_type": "code",
      "source": [],
      "metadata": {
        "id": "NDBUtxfJuIqm"
      },
      "id": "NDBUtxfJuIqm",
      "execution_count": 18,
      "outputs": []
    }
  ],
  "metadata": {
    "kernelspec": {
      "display_name": "Python 3",
      "language": "python",
      "name": "python3"
    },
    "language_info": {
      "codemirror_mode": {
        "name": "ipython",
        "version": 3
      },
      "file_extension": ".py",
      "mimetype": "text/x-python",
      "name": "python",
      "nbconvert_exporter": "python",
      "pygments_lexer": "ipython3",
      "version": "3.8.8"
    },
    "colab": {
      "provenance": []
    }
  },
  "nbformat": 4,
  "nbformat_minor": 5
}